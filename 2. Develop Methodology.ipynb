{
 "cells": [
  {
   "cell_type": "markdown",
   "metadata": {
    "id": "r3L0ZwCUZDQW"
   },
   "source": [
    "![bse_logo_textminingcourse](https://bse.eu/sites/default/files/bse_logo_small.png)"
   ]
  },
  {
   "cell_type": "code",
   "execution_count": 1,
   "metadata": {
    "executionInfo": {
     "elapsed": 644,
     "status": "ok",
     "timestamp": 1740240087604,
     "user": {
      "displayName": "Adrian Alejandro Vacca Bonilla",
      "userId": "06323126180071332084"
     },
     "user_tz": -60
    },
    "id": "udO_CBq6ZDQZ"
   },
   "outputs": [],
   "source": [
    "import pandas as pd"
   ]
  },
  {
   "cell_type": "markdown",
   "metadata": {
    "id": "ovn86NB0ZDQa"
   },
   "source": [
    "The mental health corpus, we can divide it into 2\n",
    "\t- One corpus with the 1 : Mentally ill People\n",
    "\t- Second corpus with the 0: Healthy people\n",
    "\n",
    "Steps:\n",
    "\n",
    "1. We split both corpus in train and test.\n",
    "2. We extract a dictionary from each of those corpus.\n",
    "3. ⁠Then we decide the way we are choosing to weight the frecuency of the words to decide which words of the ill people corpus we discard because are also frecuently mentioned on the Healthy people corpus.\n",
    "\n",
    "This is already 90% of the proyect.\n",
    "\n",
    "4. We do a simple logistic to test the accuracy of the dictionary that we generated.\n",
    "5. ⁠We imporve if we feel like it or we have some free time"
   ]
  },
  {
   "cell_type": "markdown",
   "metadata": {
    "id": "YX65SteZZDQb"
   },
   "source": [
    "# Part 2: Develop Methodology\n"
   ]
  },
  {
   "cell_type": "markdown",
   "metadata": {
    "id": "k3klBjexZDQc"
   },
   "source": [
    "Data generated in the pre-processing part is loaded here"
   ]
  },
  {
   "cell_type": "code",
   "execution_count": 13,
   "metadata": {
    "colab": {
     "base_uri": "https://localhost:8080/",
     "height": 347
    },
    "executionInfo": {
     "elapsed": 312,
     "status": "error",
     "timestamp": 1740240089504,
     "user": {
      "displayName": "Adrian Alejandro Vacca Bonilla",
      "userId": "06323126180071332084"
     },
     "user_tz": -60
    },
    "id": "lYu6c1zxZDQc",
    "outputId": "f4ced048-6e56-40c3-d7f4-37e18e31ff78"
   },
   "outputs": [
    {
     "data": {
      "application/vnd.microsoft.datawrangler.viewer.v0+json": {
       "columns": [
        {
         "name": "index",
         "rawType": "int64",
         "type": "integer"
        },
        {
         "name": "Unnamed: 0",
         "rawType": "int64",
         "type": "integer"
        },
        {
         "name": "text",
         "rawType": "object",
         "type": "string"
        },
        {
         "name": "label",
         "rawType": "int64",
         "type": "integer"
        },
        {
         "name": "text_no_stopwords",
         "rawType": "object",
         "type": "string"
        },
        {
         "name": "text_stem",
         "rawType": "object",
         "type": "string"
        },
        {
         "name": "text_lemma",
         "rawType": "object",
         "type": "string"
        }
       ],
       "conversionMethod": "pd.DataFrame",
       "ref": "de184095-35be-4489-9614-ec8cbffcef76",
       "rows": [
        [
         "0",
         "0",
         "dear american teens question dutch person heard guys get way easier things learn age us sooooo thth graders like  right guys learn math",
         "0",
         "dear american teens question dutch person heard guys way easier things learn age us sooooo thth graders right guys learn math",
         "dear american teen question dutch person heard guy way easier thing learn age us sooooo thth grader right guy learn math",
         "dear american teen question dutch person hear guy way easy thing learn age sooooo thth grader right guy learn math"
        ],
        [
         "1",
         "1",
         "nothing look forward lifei dont many reasons keep going feel like nothing keeps going next day makes want hang myself",
         "1",
         "nothing look forward lifei dont many reasons keep going feel nothing keeps going next day makes hang",
         "noth look forward lifei dont mani reason keep go feel noth keep go next day make hang",
         "look forward lifei not reason going feel keep go day make hang"
        ],
        [
         "2",
         "2",
         "music recommendations im looking expand playlist usual genres alt pop minnesota hip hop steampunk various indie genres artists people like cavetown aliceband bug hunter penelope scott various rhymesayers willing explore new genresartists such anything generic rap the type exclusively sex drugs cool rapper is rap types pretty good pop popular couple years ago dunno technical genre name anyways anyone got music recommendations favorite artistssongs",
         "0",
         "music recommendations looking expand playlist usual genres alt pop minnesota hip hop steampunk various indie genres artists people cavetown aliceband bug hunter penelope scott various rhymesayers willing explore new genresartists anything generic rap type exclusively sex drugs cool rapper rap types pretty good pop popular couple years ago dunno technical genre name anyways anyone music recommendations favorite artistssongs",
         "music recommend look expand playlist usual genr alt pop minnesota hip hop steampunk variou indi genr artist peopl cavetown aliceband bug hunter penelop scott variou rhymesay will explor new genresartist anyth gener rap type exclus sex drug cool rapper rap type pretti good pop popular coupl year ago dunno technic genr name anyway anyon music recommend favorit artistssong",
         "music recommendation look expand playlist usual genre alt pop minnesota hip hop steampunk indie genre artist people cavetown aliceband bug hunter penelope scott rhymesayer willing explore new genresartist generic rap type exclusively sex drug cool rapper rap type pretty good pop popular couple year ago dunno technical genre anyways music recommendation favorite artistssong"
        ],
        [
         "3",
         "3",
         "im done trying feel betterthe reason im still alive know mum devastated ever killed myself ever passes im still state im going hesitate ending life shortly after im almost  take meds go therapy nothing seems help enough dont want around anymore hate feeling like this wouldnt wish upon enemy brain feels like constantly like static tv wont shut overthinking do think im running options dont see living past  got accepted health science degree dont even know wanna try know im smart mental illness holds back think cant anything im good enough need fucking help dont know anymore ive run options",
         "1",
         "done trying feel betterthe reason still alive mum devastated ever killed ever passes still state going hesitate ending life shortly almost take meds go therapy nothing seems help enough dont around anymore hate feeling wouldnt wish upon enemy brain feels constantly static tv wont shut overthinking running options dont see living past accepted health science degree dont wan na try smart mental illness holds back cant anything good enough need fucking help dont anymore run options",
         "done tri feel betterth reason still aliv mum devast ever kill ever pass still state go hesit end life shortli almost take med go therapi noth seem help enough dont around anymor hate feel wouldnt wish upon enemi brain feel constantli static tv wont shut overthink run option dont see live past accept health scienc degre dont wan na tri smart mental ill hold back cant anyth good enough need fuck help dont anymor run option",
         "try feel betterthe reason alive mum devastate kill pass state go hesitate end life shortly med therapy help not anymore hate feeling not wish enemy brain feel constantly static tv will not shut overthinke run option not live past accept health science degree not wan na try smart mental illness hold not good need fucking help not anymore run option"
        ],
        [
         "4",
         "4",
         "worried  year old girl subject domestic physicalmental housewithout going lot know girl know girl etc let give brief background known girl  years lives uk live different country kept touch electronic means first girl schizophrenic host illnesses too dad severe anger issues abuses physically mentally makes serve food wash dishes clean house shouts beats petty things like spilling water picking toys floor threatened knife beats plates glasses punches head last time got beat around month ago one siblings gets beat up tried tell mother beating showed bruises too mother refuses believe even laughed off probably fear confronting him husband yells wife too family treat well either sister mean tell father put trouble family tends isolate her even remember birthday all family cold her often tend alienate since act normal girl often feels suicidal due this inflicted selfharm cut wrist starves believes way family accept her make worse two incidents life must tell about raped walking back home night initially tell parents sometime later police reports filed rape suffered false pregnancy girl symptoms disorder like lactating breasts happened early  depressed incident summer  approximately family sent couple family friends wellknown treatments advertised herbal therapy accupuncture etc however happened next terrible left alone husband wife went somewhere else guy tortured her instance made sit container filled water upto neck closed lid imagine kind stress panic would cause schizophrenic patient miscellaneous details gt gets visit psychiatrist school able hide problems psychiatrist noted girl able put front really well gt five psychiatrists past gt enjoys drawingpainting learning new languages writing poems gt depressed tends victimized mentality blames problems want report abuse due trouble family face tells stopped cutting lately problem refuses tell anyone abuse even tries defend father saying fault help her although seem extremely suicidal concern physically mental abuse girl subject everyday healthy environment anyone grow in really wish rescued clutches belligerent controlling father dysfunctional family",
         "1",
         "worried year old girl subject domestic physicalmental housewithout going lot girl girl etc let give brief background known girl years lives uk live different country kept touch electronic means first girl schizophrenic host illnesses dad severe anger issues abuses physically mentally makes serve food wash dishes clean house shouts beats petty things spilling water picking toys floor threatened knife beats plates glasses punches head last time beat around month ago siblings gets beat tried tell mother beating showed bruises mother refuses believe laughed probably fear confronting husband yells wife family treat well either sister mean tell father put trouble family tends isolate remember birthday family cold often tend alienate since act normal girl often feels suicidal due inflicted selfharm cut wrist starves believes way family accept worse two incidents life must tell raped walking back home night initially tell parents sometime later police reports filed rape suffered false pregnancy girl symptoms disorder lactating breasts happened early depressed incident summer approximately family sent couple family friends wellknown treatments advertised herbal therapy accupuncture etc however happened next terrible left alone husband wife went somewhere else guy tortured instance made sit container filled water upto neck closed lid imagine kind stress panic would cause schizophrenic patient miscellaneous details gt gets visit psychiatrist school able hide problems psychiatrist noted girl able put front really well gt five psychiatrists past gt enjoys drawingpainting learning new languages writing poems gt depressed tends victimized mentality blames problems report abuse due trouble family face tells stopped cutting lately problem refuses tell anyone abuse tries defend father saying fault help although seem extremely suicidal concern physically mental abuse girl subject everyday healthy environment anyone grow really wish rescued clutches belligerent controlling father dysfunctional family",
         "worri year old girl subject domest physicalment housewithout go lot girl girl etc let give brief background known girl year live uk live differ countri kept touch electron mean first girl schizophren host ill dad sever anger issu abus physic mental make serv food wash dish clean hous shout beat petti thing spill water pick toy floor threaten knife beat plate glass punch head last time beat around month ago sibl get beat tri tell mother beat show bruis mother refus believ laugh probabl fear confront husband yell wife famili treat well either sister mean tell father put troubl famili tend isol rememb birthday famili cold often tend alien sinc act normal girl often feel suicid due inflict selfharm cut wrist starv believ way famili accept wors two incid life must tell rape walk back home night initi tell parent sometim later polic report file rape suffer fals pregnanc girl symptom disord lactat breast happen earli depress incid summer approxim famili sent coupl famili friend wellknown treatment advertis herbal therapi accupunctur etc howev happen next terribl left alon husband wife went somewher els guy tortur instanc made sit contain fill water upto neck close lid imagin kind stress panic would caus schizophren patient miscellan detail gt get visit psychiatrist school abl hide problem psychiatrist note girl abl put front realli well gt five psychiatrist past gt enjoy drawingpaint learn new languag write poem gt depress tend victim mental blame problem report abus due troubl famili face tell stop cut late problem refus tell anyon abus tri defend father say fault help although seem extrem suicid concern physic mental abus girl subject everyday healthi environ anyon grow realli wish rescu clutch belliger control father dysfunct famili",
         "worry year old girl subject domestic physicalmental housewithout go lot girl girl etc let brief background know girl year live uk live different country keep touch electronic mean girl schizophrenic host illnesse dad severe anger issue abuse physically mentally make serve food wash dish clean house shout beat petty thing spill water pick toy floor threaten knife beat plate glass punch head time beat month ago sibling get beat try tell mother beating show bruise mother refuse believe laugh probably fear confront husband yell wife family treat sister mean tell father trouble family tend isolate remember birthday family cold tend alienate act normal girl feel suicidal inflict selfharm cut wrist starve believe way family accept bad incident life tell rape walk home night initially tell parent later police report file rape suffer false pregnancy girl symptom disorder lactate breast happen early depressed incident summer approximately family send couple family friend wellknown treatment advertise herbal therapy accupuncture etc happen terrible left husband wife go guy torture instance sit container fill water upto neck close lid imagine kind stress panic cause schizophrenic patient miscellaneous detail gt get visit psychiatrist school able hide problem psychiatrist note girl able gt psychiatrist past gt enjoy drawingpainte learn new language write poem gt depressed tends victimize mentality blame problem report abuse trouble family face tell stop cut lately problem refuse tell abuse try defend father say fault help extremely suicidal concern physically mental abuse girl subject everyday healthy environment grow wish rescue clutch belligerent control father dysfunctional family"
        ]
       ],
       "shape": {
        "columns": 6,
        "rows": 5
       }
      },
      "text/html": [
       "<div>\n",
       "<style scoped>\n",
       "    .dataframe tbody tr th:only-of-type {\n",
       "        vertical-align: middle;\n",
       "    }\n",
       "\n",
       "    .dataframe tbody tr th {\n",
       "        vertical-align: top;\n",
       "    }\n",
       "\n",
       "    .dataframe thead th {\n",
       "        text-align: right;\n",
       "    }\n",
       "</style>\n",
       "<table border=\"1\" class=\"dataframe\">\n",
       "  <thead>\n",
       "    <tr style=\"text-align: right;\">\n",
       "      <th></th>\n",
       "      <th>Unnamed: 0</th>\n",
       "      <th>text</th>\n",
       "      <th>label</th>\n",
       "      <th>text_no_stopwords</th>\n",
       "      <th>text_stem</th>\n",
       "      <th>text_lemma</th>\n",
       "    </tr>\n",
       "  </thead>\n",
       "  <tbody>\n",
       "    <tr>\n",
       "      <th>0</th>\n",
       "      <td>0</td>\n",
       "      <td>dear american teens question dutch person hear...</td>\n",
       "      <td>0</td>\n",
       "      <td>dear american teens question dutch person hear...</td>\n",
       "      <td>dear american teen question dutch person heard...</td>\n",
       "      <td>dear american teen question dutch person hear ...</td>\n",
       "    </tr>\n",
       "    <tr>\n",
       "      <th>1</th>\n",
       "      <td>1</td>\n",
       "      <td>nothing look forward lifei dont many reasons k...</td>\n",
       "      <td>1</td>\n",
       "      <td>nothing look forward lifei dont many reasons k...</td>\n",
       "      <td>noth look forward lifei dont mani reason keep ...</td>\n",
       "      <td>look forward lifei not reason going feel keep ...</td>\n",
       "    </tr>\n",
       "    <tr>\n",
       "      <th>2</th>\n",
       "      <td>2</td>\n",
       "      <td>music recommendations im looking expand playli...</td>\n",
       "      <td>0</td>\n",
       "      <td>music recommendations looking expand playlist ...</td>\n",
       "      <td>music recommend look expand playlist usual gen...</td>\n",
       "      <td>music recommendation look expand playlist usua...</td>\n",
       "    </tr>\n",
       "    <tr>\n",
       "      <th>3</th>\n",
       "      <td>3</td>\n",
       "      <td>im done trying feel betterthe reason im still ...</td>\n",
       "      <td>1</td>\n",
       "      <td>done trying feel betterthe reason still alive ...</td>\n",
       "      <td>done tri feel betterth reason still aliv mum d...</td>\n",
       "      <td>try feel betterthe reason alive mum devastate ...</td>\n",
       "    </tr>\n",
       "    <tr>\n",
       "      <th>4</th>\n",
       "      <td>4</td>\n",
       "      <td>worried  year old girl subject domestic physic...</td>\n",
       "      <td>1</td>\n",
       "      <td>worried year old girl subject domestic physica...</td>\n",
       "      <td>worri year old girl subject domest physicalmen...</td>\n",
       "      <td>worry year old girl subject domestic physicalm...</td>\n",
       "    </tr>\n",
       "  </tbody>\n",
       "</table>\n",
       "</div>"
      ],
      "text/plain": [
       "   Unnamed: 0                                               text  label  \\\n",
       "0           0  dear american teens question dutch person hear...      0   \n",
       "1           1  nothing look forward lifei dont many reasons k...      1   \n",
       "2           2  music recommendations im looking expand playli...      0   \n",
       "3           3  im done trying feel betterthe reason im still ...      1   \n",
       "4           4  worried  year old girl subject domestic physic...      1   \n",
       "\n",
       "                                   text_no_stopwords  \\\n",
       "0  dear american teens question dutch person hear...   \n",
       "1  nothing look forward lifei dont many reasons k...   \n",
       "2  music recommendations looking expand playlist ...   \n",
       "3  done trying feel betterthe reason still alive ...   \n",
       "4  worried year old girl subject domestic physica...   \n",
       "\n",
       "                                           text_stem  \\\n",
       "0  dear american teen question dutch person heard...   \n",
       "1  noth look forward lifei dont mani reason keep ...   \n",
       "2  music recommend look expand playlist usual gen...   \n",
       "3  done tri feel betterth reason still aliv mum d...   \n",
       "4  worri year old girl subject domest physicalmen...   \n",
       "\n",
       "                                          text_lemma  \n",
       "0  dear american teen question dutch person hear ...  \n",
       "1  look forward lifei not reason going feel keep ...  \n",
       "2  music recommendation look expand playlist usua...  \n",
       "3  try feel betterthe reason alive mum devastate ...  \n",
       "4  worry year old girl subject domestic physicalm...  "
      ]
     },
     "execution_count": 13,
     "metadata": {},
     "output_type": "execute_result"
    }
   ],
   "source": [
    "df = pd.read_csv(\"data/preprocessing/mental_health_preprocessed.csv\")\n",
    "df.head()"
   ]
  },
  {
   "cell_type": "markdown",
   "metadata": {},
   "source": [
    "## 3. Understand the use of methods like Tf-idf"
   ]
  },
  {
   "cell_type": "code",
   "execution_count": 28,
   "metadata": {},
   "outputs": [],
   "source": [
    "# Separate texts based on label\n",
    "texts_0 = df[df[\"label\"] == 0][\"text_lemma\"].dropna().tolist()  # Healthy group\n",
    "texts_1 = df[df[\"label\"] == 1][\"text_lemma\"].dropna().tolist()  # Mentally ill group"
   ]
  },
  {
   "cell_type": "markdown",
   "metadata": {
    "id": "bBA8GyCcZDQd"
   },
   "source": [
    "### 3.1. Analyzing using TF-IDF\n",
    "\n",
    "Getting the first 30 features by class"
   ]
  },
  {
   "cell_type": "code",
   "execution_count": 29,
   "metadata": {
    "id": "9Qa8iwH4ZDQe",
    "outputId": "38304121-109d-4850-f7ea-df415828c490"
   },
   "outputs": [],
   "source": [
    "from sklearn.feature_extraction.text import TfidfVectorizer\n",
    "import pandas as pd\n",
    "import numpy as np\n",
    "import matplotlib.pyplot as plt\n",
    "import seaborn as sns\n",
    "\n",
    "\n",
    "\n",
    "# Apply TF-IDF separately for each group\n",
    "vectorizer_0 = TfidfVectorizer(stop_words=\"english\", max_features=30)\n",
    "tfidf_0 = vectorizer_0.fit_transform(texts_0)\n",
    "words_0 = vectorizer_0.get_feature_names_out()\n",
    "scores_0 = np.asarray(tfidf_0.mean(axis=0)).flatten()\n",
    "\n",
    "vectorizer_1 = TfidfVectorizer(stop_words=\"english\", max_features=30)\n",
    "tfidf_1 = vectorizer_1.fit_transform(texts_1)\n",
    "words_1 = vectorizer_1.get_feature_names_out()\n",
    "scores_1 = np.asarray(tfidf_1.mean(axis=0)).flatten()\n",
    "\n",
    "# Create DataFrames with extracted words and scores\n",
    "df_tfidf_0 = pd.DataFrame({\"word\": words_0, \"score\": scores_0}).sort_values(by=\"score\", ascending=False)\n",
    "df_tfidf_1 = pd.DataFrame({\"word\": words_1, \"score\": scores_1}).sort_values(by=\"score\", ascending=False)"
   ]
  },
  {
   "cell_type": "markdown",
   "metadata": {},
   "source": [
    "Visualizing Results"
   ]
  },
  {
   "cell_type": "code",
   "execution_count": 30,
   "metadata": {},
   "outputs": [
    {
     "data": {
      "image/png": "[encoded data removed]",
      "text/plain": [
       "<Figure size 1800x600 with 2 Axes>"
      ]
     },
     "metadata": {},
     "output_type": "display_data"
    }
   ],
   "source": [
    "# Plot TF-IDF scores for both labels side by side\n",
    "fig, axes = plt.subplots(1, 2, figsize=(18, 6))\n",
    "\n",
    "sns.barplot(y=df_tfidf_0[\"word\"], x=df_tfidf_0[\"score\"], hue=df_tfidf_0[\"word\"], dodge=False, palette=\"Blues_r\", ax=axes[0])\n",
    "axes[0].set_title(\"Top 30 TF-IDF Words for Label 0 (Healthy people)\")\n",
    "axes[0].set_xlabel(\"TF-IDF Score\")\n",
    "axes[0].set_ylabel(\"Words\")\n",
    "\n",
    "\n",
    "sns.barplot(y=df_tfidf_1[\"word\"], x=df_tfidf_1[\"score\"], hue=df_tfidf_1[\"word\"], dodge=False, palette=\"Reds_r\", ax=axes[1])\n",
    "axes[1].set_title(\"Top 30 TF-IDF Words for Label 1 (Mentally ill people)\")\n",
    "axes[1].set_xlabel(\"TF-IDF Score\")\n",
    "axes[1].set_ylabel(\"Words\")\n",
    "\n",
    "plt.tight_layout()\n",
    "plt.show()\n"
   ]
  },
  {
   "cell_type": "markdown",
   "metadata": {
    "id": "stBhxBszZDQe"
   },
   "source": [
    "### 3.2. Generating Topics Using LDA"
   ]
  },
  {
   "cell_type": "code",
   "execution_count": 32,
   "metadata": {
    "id": "5wetywe-ZDQf",
    "outputId": "1432ee8f-a618-434f-96f2-f6f16b718943"
   },
   "outputs": [
    {
     "name": "stdout",
     "output_type": "stream",
     "text": [
      "Topics for Label 0 (Healthy people):\n",
      "  Topic 1    Topic 2 Topic 3 Topic 4   Topic 5\n",
      "0    game         br     day  friend    filler\n",
      "1    play       film    feel  people       wan\n",
      "2    post      movie    time    girl        na\n",
      "3    look       good    year    talk     water\n",
      "4  reddit  character    good     say  nowdrink\n",
      "5     guy      great    life    fuck      song\n",
      "6   video      story  school     ask     bored\n",
      "7     new       time   thing    tell      post\n",
      "8   ampxb      watch   today     guy      love\n",
      "9   watch       love   start    help       pee\n",
      "\n",
      "Topics for Label 1 (Mentally ill people):\n",
      "  Topic 1 Topic 2  Topic 3 Topic 4  Topic 5\n",
      "0    feel    year     help  people     life\n",
      "1  friend    tell     life    life     fuck\n",
      "2    time    time  redflag    love     hate\n",
      "3     day  friend   people    feel      die\n",
      "4   thing     say     time     try     live\n",
      "5    talk     mom      try    pain     kill\n",
      "6     bad   start     need    care     feel\n",
      "7    life  school     work   tired  fucking\n",
      "8     try   leave     year    hurt     shit\n",
      "9    tell     day    thing   thing   school\n"
     ]
    }
   ],
   "source": [
    "from sklearn.feature_extraction.text import TfidfVectorizer, CountVectorizer\n",
    "from sklearn.decomposition import LatentDirichletAllocation\n",
    "\n",
    "# Apply LDA separately for each group\n",
    "vectorizer_0_lda = CountVectorizer(stop_words=\"english\", max_features=1000)\n",
    "X_0 = vectorizer_0_lda.fit_transform(texts_0)\n",
    "\n",
    "vectorizer_1_lda = CountVectorizer(stop_words=\"english\", max_features=1000)\n",
    "X_1 = vectorizer_1_lda.fit_transform(texts_1)\n",
    "\n",
    "num_topics = 5\n",
    "lda_model_0 = LatentDirichletAllocation(n_components=num_topics, random_state=42)\n",
    "lda_model_0.fit(X_0)\n",
    "\n",
    "lda_model_1 = LatentDirichletAllocation(n_components=num_topics, random_state=42)\n",
    "lda_model_1.fit(X_1)\n",
    "\n",
    "# Extract topic words\n",
    "words_0_lda = vectorizer_0_lda.get_feature_names_out()\n",
    "words_1_lda = vectorizer_1_lda.get_feature_names_out()\n",
    "\n",
    "topics_0 = {}\n",
    "topics_1 = {}\n",
    "\n",
    "for topic_idx, topic in enumerate(lda_model_0.components_):\n",
    "    top_words = [words_0_lda[i] for i in topic.argsort()[:-11:-1]]\n",
    "    topics_0[f\"Topic {topic_idx+1}\"] = top_words\n",
    "\n",
    "for topic_idx, topic in enumerate(lda_model_1.components_):\n",
    "    top_words = [words_1_lda[i] for i in topic.argsort()[:-11:-1]]\n",
    "    topics_1[f\"Topic {topic_idx+1}\"] = top_words\n",
    "\n",
    "# Convert topics to DataFrame\n",
    "df_topics_0 = pd.DataFrame(topics_0)\n",
    "df_topics_1 = pd.DataFrame(topics_1)\n",
    "\n",
    "# Display results\n",
    "print(\"Topics for Label 0 (Healthy people):\")\n",
    "print(df_topics_0)\n",
    "\n",
    "print(\"\\nTopics for Label 1 (Mentally ill people):\")\n",
    "print(df_topics_1)"
   ]
  },
  {
   "cell_type": "markdown",
   "metadata": {
    "id": "VO1qWi2qZDQg"
   },
   "source": [
    "### 3.3. Generating Topics with n-GRAMS"
   ]
  },
  {
   "cell_type": "code",
   "execution_count": 39,
   "metadata": {
    "id": "ucOHak-RZDQg",
    "outputId": "72e2d7a7-2510-4380-a7fe-42cf2731ca62"
   },
   "outputs": [
    {
     "name": "stdout",
     "output_type": "stream",
     "text": [
      "Top N-grams for Label 1:\n",
      "                 ngram  count\n",
      "9911          year old    978\n",
      "3192             go to    904\n",
      "3268       good friend    853\n",
      "9273            wan na    756\n",
      "9823          year ago    755\n",
      "8027  suicidal thought    694\n",
      "9555          will not    647\n",
      "3773       high school    636\n",
      "5799       not anymore    623\n",
      "5890          not feel    571\n",
      "2094          feel bad    560\n",
      "1792          end life    557\n",
      "5674         need help    540\n",
      "4989         long time    538\n",
      "1021    commit redflag    523\n",
      "2902           get bad    488\n",
      "5409     mental health    476\n",
      "2384         feel well    444\n",
      "5971          not live    442\n",
      "5945          not help    432\n",
      "                 ngram  count\n",
      "9911          year old    978\n",
      "3192             go to    904\n",
      "3268       good friend    853\n",
      "9273            wan na    756\n",
      "9823          year ago    755\n",
      "8027  suicidal thought    694\n",
      "9555          will not    647\n",
      "3773       high school    636\n",
      "5799       not anymore    623\n",
      "5890          not feel    571\n",
      "2094          feel bad    560\n",
      "1792          end life    557\n",
      "5674         need help    540\n",
      "4989         long time    538\n",
      "1021    commit redflag    523\n",
      "2902           get bad    488\n",
      "5409     mental health    476\n",
      "2384         feel well    444\n",
      "5971          not live    442\n",
      "5945          not help    432\n"
     ]
    }
   ],
   "source": [
    "# Process n-grams separately for each class\n",
    "# Label 0 (Healthy people)\n",
    "vectorizer_ngrams_0 = CountVectorizer(ngram_range=(2, 3), max_features=10000)  # Limit feature size\n",
    "X_ngrams_0 = vectorizer_ngrams_0.fit_transform(texts_0)\n",
    "ngrams_counts_0 = X_ngrams_0.sum(axis=0).A1\n",
    "ngrams_counts_df_0 = pd.DataFrame({'ngram': vectorizer_ngrams_0.get_feature_names_out(), 'count': ngrams_counts_0}).sort_values(by='count', ascending=False)\n",
    "# print(\"Top N-grams for Label 0:\")\n",
    "# print(ngrams_counts_df_0.head(20))\n",
    "\n",
    "# Label 1 (Mentally ill people)\n",
    "vectorizer_ngrams_1 = CountVectorizer(ngram_range=(2, 3), max_features=10000)  # Limit feature size\n",
    "X_ngrams_1 = vectorizer_ngrams_1.fit_transform(texts_1)\n",
    "ngrams_counts_1 = X_ngrams_1.sum(axis=0).A1\n",
    "ngrams_counts_df_1 = pd.DataFrame({'ngram': vectorizer_ngrams_1.get_feature_names_out(), 'count': ngrams_counts_1}).sort_values(by='count', ascending=False)\n",
    "print(\"Top N-grams for Label 1:\")\n",
    "print(ngrams_counts_df_1.head(20))\n",
    "\n",
    "\n",
    "print(ngrams_counts_df_1.head(20))"
   ]
  },
  {
   "cell_type": "code",
   "execution_count": 40,
   "metadata": {
    "id": "QOAa6pbUZDQh",
    "outputId": "a6c827e4-1308-4180-f31d-2d033f4f36f5"
   },
   "outputs": [
    {
     "data": {
      "application/vnd.microsoft.datawrangler.viewer.v0+json": {
       "columns": [
        {
         "name": "index",
         "rawType": "int64",
         "type": "integer"
        },
        {
         "name": "Topic 1",
         "rawType": "object",
         "type": "string"
        },
        {
         "name": "Topic 2",
         "rawType": "object",
         "type": "string"
        },
        {
         "name": "Topic 3",
         "rawType": "object",
         "type": "string"
        },
        {
         "name": "Topic 4",
         "rawType": "object",
         "type": "string"
        },
        {
         "name": "Topic 5",
         "rawType": "object",
         "type": "string"
        },
        {
         "name": "Topic 6",
         "rawType": "object",
         "type": "string"
        },
        {
         "name": "Topic 7",
         "rawType": "object",
         "type": "string"
        },
        {
         "name": "Topic 8",
         "rawType": "object",
         "type": "string"
        },
        {
         "name": "Topic 9",
         "rawType": "object",
         "type": "string"
        },
        {
         "name": "Topic 10",
         "rawType": "object",
         "type": "string"
        }
       ],
       "conversionMethod": "pd.DataFrame",
       "ref": "3097f918-c7e3-47a7-b132-55d67b0caf72",
       "rows": [
        [
         "0",
         "die die",
         "end life",
         "high school",
         "wan na",
         "year old",
         "life worth",
         "go to",
         "not live",
         "good friend",
         "suicidal thought"
        ],
        [
         "1",
         "pain sad",
         "long time",
         "get bad",
         "need help",
         "need talk",
         "worth live",
         "help help",
         "not anymore",
         "go to",
         "year ago"
        ],
        [
         "2",
         "suicidal thought",
         "people care",
         "feel well",
         "help need",
         "go to",
         "not stop",
         "year old",
         "will not",
         "will not",
         "piece shit"
        ],
        [
         "3",
         "sad pain",
         "high school",
         "year old",
         "na die",
         "will not",
         "stop think",
         "commit redflag",
         "not feel",
         "try help",
         "fuck fuck"
        ],
        [
         "4",
         "pain sad pain",
         "not care",
         "self harm",
         "wan na die",
         "not feel",
         "life worth live",
         "not anymore",
         "good friend",
         "long time",
         "make feel"
        ],
        [
         "5",
         "sad pain sad",
         "hard try",
         "commit redflag",
         "need help need",
         "suicidal thought",
         "not stop think",
         "help help help",
         "year ago",
         "not anymore",
         "past year"
        ],
        [
         "6",
         "try kill",
         "friend family",
         "video game",
         "not wan",
         "feel way",
         "keep alive",
         "not afford",
         "not not",
         "year ago",
         "get well"
        ],
        [
         "7",
         "feel good",
         "not live",
         "good friend",
         "help need help",
         "high school",
         "live life",
         "mental health",
         "not talk",
         "make feel",
         "long time"
        ],
        [
         "8",
         "mental health",
         "year old",
         "make feel",
         "not wan na",
         "need help",
         "year old",
         "go kill",
         "not help",
         "year old",
         "year old"
        ],
        [
         "9",
         "redflag note",
         "live life",
         "life feel",
         "year ago",
         "life not",
         "thing keep",
         "day day",
         "feel bad",
         "try talk",
         "mental health"
        ]
       ],
       "shape": {
        "columns": 10,
        "rows": 10
       }
      },
      "text/html": [
       "<div>\n",
       "<style scoped>\n",
       "    .dataframe tbody tr th:only-of-type {\n",
       "        vertical-align: middle;\n",
       "    }\n",
       "\n",
       "    .dataframe tbody tr th {\n",
       "        vertical-align: top;\n",
       "    }\n",
       "\n",
       "    .dataframe thead th {\n",
       "        text-align: right;\n",
       "    }\n",
       "</style>\n",
       "<table border=\"1\" class=\"dataframe\">\n",
       "  <thead>\n",
       "    <tr style=\"text-align: right;\">\n",
       "      <th></th>\n",
       "      <th>Topic 1</th>\n",
       "      <th>Topic 2</th>\n",
       "      <th>Topic 3</th>\n",
       "      <th>Topic 4</th>\n",
       "      <th>Topic 5</th>\n",
       "      <th>Topic 6</th>\n",
       "      <th>Topic 7</th>\n",
       "      <th>Topic 8</th>\n",
       "      <th>Topic 9</th>\n",
       "      <th>Topic 10</th>\n",
       "    </tr>\n",
       "  </thead>\n",
       "  <tbody>\n",
       "    <tr>\n",
       "      <th>0</th>\n",
       "      <td>die die</td>\n",
       "      <td>end life</td>\n",
       "      <td>high school</td>\n",
       "      <td>wan na</td>\n",
       "      <td>year old</td>\n",
       "      <td>life worth</td>\n",
       "      <td>go to</td>\n",
       "      <td>not live</td>\n",
       "      <td>good friend</td>\n",
       "      <td>suicidal thought</td>\n",
       "    </tr>\n",
       "    <tr>\n",
       "      <th>1</th>\n",
       "      <td>pain sad</td>\n",
       "      <td>long time</td>\n",
       "      <td>get bad</td>\n",
       "      <td>need help</td>\n",
       "      <td>need talk</td>\n",
       "      <td>worth live</td>\n",
       "      <td>help help</td>\n",
       "      <td>not anymore</td>\n",
       "      <td>go to</td>\n",
       "      <td>year ago</td>\n",
       "    </tr>\n",
       "    <tr>\n",
       "      <th>2</th>\n",
       "      <td>suicidal thought</td>\n",
       "      <td>people care</td>\n",
       "      <td>feel well</td>\n",
       "      <td>help need</td>\n",
       "      <td>go to</td>\n",
       "      <td>not stop</td>\n",
       "      <td>year old</td>\n",
       "      <td>will not</td>\n",
       "      <td>will not</td>\n",
       "      <td>piece shit</td>\n",
       "    </tr>\n",
       "    <tr>\n",
       "      <th>3</th>\n",
       "      <td>sad pain</td>\n",
       "      <td>high school</td>\n",
       "      <td>year old</td>\n",
       "      <td>na die</td>\n",
       "      <td>will not</td>\n",
       "      <td>stop think</td>\n",
       "      <td>commit redflag</td>\n",
       "      <td>not feel</td>\n",
       "      <td>try help</td>\n",
       "      <td>fuck fuck</td>\n",
       "    </tr>\n",
       "    <tr>\n",
       "      <th>4</th>\n",
       "      <td>pain sad pain</td>\n",
       "      <td>not care</td>\n",
       "      <td>self harm</td>\n",
       "      <td>wan na die</td>\n",
       "      <td>not feel</td>\n",
       "      <td>life worth live</td>\n",
       "      <td>not anymore</td>\n",
       "      <td>good friend</td>\n",
       "      <td>long time</td>\n",
       "      <td>make feel</td>\n",
       "    </tr>\n",
       "    <tr>\n",
       "      <th>5</th>\n",
       "      <td>sad pain sad</td>\n",
       "      <td>hard try</td>\n",
       "      <td>commit redflag</td>\n",
       "      <td>need help need</td>\n",
       "      <td>suicidal thought</td>\n",
       "      <td>not stop think</td>\n",
       "      <td>help help help</td>\n",
       "      <td>year ago</td>\n",
       "      <td>not anymore</td>\n",
       "      <td>past year</td>\n",
       "    </tr>\n",
       "    <tr>\n",
       "      <th>6</th>\n",
       "      <td>try kill</td>\n",
       "      <td>friend family</td>\n",
       "      <td>video game</td>\n",
       "      <td>not wan</td>\n",
       "      <td>feel way</td>\n",
       "      <td>keep alive</td>\n",
       "      <td>not afford</td>\n",
       "      <td>not not</td>\n",
       "      <td>year ago</td>\n",
       "      <td>get well</td>\n",
       "    </tr>\n",
       "    <tr>\n",
       "      <th>7</th>\n",
       "      <td>feel good</td>\n",
       "      <td>not live</td>\n",
       "      <td>good friend</td>\n",
       "      <td>help need help</td>\n",
       "      <td>high school</td>\n",
       "      <td>live life</td>\n",
       "      <td>mental health</td>\n",
       "      <td>not talk</td>\n",
       "      <td>make feel</td>\n",
       "      <td>long time</td>\n",
       "    </tr>\n",
       "    <tr>\n",
       "      <th>8</th>\n",
       "      <td>mental health</td>\n",
       "      <td>year old</td>\n",
       "      <td>make feel</td>\n",
       "      <td>not wan na</td>\n",
       "      <td>need help</td>\n",
       "      <td>year old</td>\n",
       "      <td>go kill</td>\n",
       "      <td>not help</td>\n",
       "      <td>year old</td>\n",
       "      <td>year old</td>\n",
       "    </tr>\n",
       "    <tr>\n",
       "      <th>9</th>\n",
       "      <td>redflag note</td>\n",
       "      <td>live life</td>\n",
       "      <td>life feel</td>\n",
       "      <td>year ago</td>\n",
       "      <td>life not</td>\n",
       "      <td>thing keep</td>\n",
       "      <td>day day</td>\n",
       "      <td>feel bad</td>\n",
       "      <td>try talk</td>\n",
       "      <td>mental health</td>\n",
       "    </tr>\n",
       "  </tbody>\n",
       "</table>\n",
       "</div>"
      ],
      "text/plain": [
       "            Topic 1        Topic 2         Topic 3         Topic 4  \\\n",
       "0           die die       end life     high school          wan na   \n",
       "1          pain sad      long time         get bad       need help   \n",
       "2  suicidal thought    people care       feel well       help need   \n",
       "3          sad pain    high school        year old          na die   \n",
       "4     pain sad pain       not care       self harm      wan na die   \n",
       "5      sad pain sad       hard try  commit redflag  need help need   \n",
       "6          try kill  friend family      video game         not wan   \n",
       "7         feel good       not live     good friend  help need help   \n",
       "8     mental health       year old       make feel      not wan na   \n",
       "9      redflag note      live life       life feel        year ago   \n",
       "\n",
       "            Topic 5          Topic 6         Topic 7      Topic 8  \\\n",
       "0          year old       life worth           go to     not live   \n",
       "1         need talk       worth live       help help  not anymore   \n",
       "2             go to         not stop        year old     will not   \n",
       "3          will not       stop think  commit redflag     not feel   \n",
       "4          not feel  life worth live     not anymore  good friend   \n",
       "5  suicidal thought   not stop think  help help help     year ago   \n",
       "6          feel way       keep alive      not afford      not not   \n",
       "7       high school        live life   mental health     not talk   \n",
       "8         need help         year old         go kill     not help   \n",
       "9          life not       thing keep         day day     feel bad   \n",
       "\n",
       "       Topic 9          Topic 10  \n",
       "0  good friend  suicidal thought  \n",
       "1        go to          year ago  \n",
       "2     will not        piece shit  \n",
       "3     try help         fuck fuck  \n",
       "4    long time         make feel  \n",
       "5  not anymore         past year  \n",
       "6     year ago          get well  \n",
       "7    make feel         long time  \n",
       "8     year old          year old  \n",
       "9     try talk     mental health  "
      ]
     },
     "execution_count": 40,
     "metadata": {},
     "output_type": "execute_result"
    }
   ],
   "source": [
    "from sklearn.decomposition import LatentDirichletAllocation\n",
    "\n",
    "# Apply LDA with a limited vocabulary size\n",
    "num_topics = 10  # Define number of topics\n",
    "\n",
    "lda_model = LatentDirichletAllocation(n_components=num_topics, random_state=42)\n",
    "lda_topics = lda_model.fit_transform(X_ngrams_1)\n",
    "\n",
    "# Extract top words for each topic\n",
    "def get_top_words(model, feature_names, n_top_words=10):\n",
    "    topics = {}\n",
    "    for topic_idx, topic in enumerate(model.components_):\n",
    "        top_features = [feature_names[i] for i in topic.argsort()[:-n_top_words - 1:-1]]\n",
    "        topics[f\"Topic {topic_idx+1}\"] = top_features\n",
    "    return topics\n",
    "\n",
    "# Get top words per topic\n",
    "topics_dict = get_top_words(lda_model, vectorizer_ngrams_1.get_feature_names_out(), n_top_words=10)\n",
    "\n",
    "# Convert to DataFrame\n",
    "topics_df = pd.DataFrame(topics_dict)\n",
    "\n",
    "topics_df\n"
   ]
  },
  {
   "cell_type": "markdown",
   "metadata": {
    "id": "jL1DgXNsZDQh"
   },
   "source": [
    "## 4. Decide on what type of content you want to track and how.\n",
    "\n",
    "Following data analysis, we recommend implementing tracking of keywords and n-grams indicative of suicidal ideation and self-harm. \n",
    "\n",
    "## 5. Make your expectations explicit. Why would one care to track the type of vocabulary in your corpus? What interesting questions could be answered with this?\n",
    "\n",
    "This will allow us to proactively identify and support individuals who may be at risk"
   ]
  }
 ],
 "metadata": {
  "colab": {
   "provenance": []
  },
  "kernelspec": {
   "display_name": "Python 3",
   "language": "python",
   "name": "python3"
  },
  "language_info": {
   "codemirror_mode": {
    "name": "ipython",
    "version": 3
   },
   "file_extension": ".py",
   "mimetype": "text/x-python",
   "name": "python",
   "nbconvert_exporter": "python",
   "pygments_lexer": "ipython3",
   "version": "3.12.9"
  }
 },
 "nbformat": 4,
 "nbformat_minor": 0
}
