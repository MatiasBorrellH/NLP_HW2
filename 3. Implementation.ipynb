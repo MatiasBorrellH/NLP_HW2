{
 "cells": [
  {
   "cell_type": "markdown",
   "metadata": {
    "id": "r3L0ZwCUZDQW"
   },
   "source": [
    "![bse_logo_textminingcourse](https://bse.eu/sites/default/files/bse_logo_small.png)"
   ]
  },
  {
   "cell_type": "code",
   "execution_count": 49,
   "metadata": {
    "executionInfo": {
     "elapsed": 644,
     "status": "ok",
     "timestamp": 1740240087604,
     "user": {
      "displayName": "Adrian Alejandro Vacca Bonilla",
      "userId": "06323126180071332084"
     },
     "user_tz": -60
    },
    "id": "udO_CBq6ZDQZ"
   },
   "outputs": [],
   "source": [
    "import pandas as pd\n",
    "from sklearn.model_selection import train_test_split\n",
    "from sklearn.feature_extraction.text import TfidfVectorizer\n",
    "import pandas as pd\n",
    "import numpy as np"
   ]
  },
  {
   "cell_type": "markdown",
   "metadata": {
    "id": "YX65SteZZDQb"
   },
   "source": [
    "# Part 3: Implementation\n",
    "\n",
    "After the previous analysis we decided to follow the methodology below.\n",
    "\n",
    "The mental health corpus, we can divide it into 2\n",
    "\n",
    "- One corpus with the 1 : Mentally ill People\n",
    "- Second corpus with the 0: Healthy people\n",
    "\n",
    "Steps:\n",
    "\n",
    "1. We split both corpus in train and test.\n",
    "2. We extract a dictionary from each of those corpus.\n",
    "3. ⁠Then we decide the way we are choosing to weight the frecuency of the words to decide which words of the ill people corpus we discard because are also frecuently mentioned on the Healthy people corpus.\n",
    "4. We do a simple logistic to test the accuracy of the dictionary that we generated.\n",
    "5. ⁠We imporve if we feel like it or we have some free time\n"
   ]
  },
  {
   "cell_type": "code",
   "execution_count": 50,
   "metadata": {
    "colab": {
     "base_uri": "https://localhost:8080/",
     "height": 347
    },
    "executionInfo": {
     "elapsed": 312,
     "status": "error",
     "timestamp": 1740240089504,
     "user": {
      "displayName": "Adrian Alejandro Vacca Bonilla",
      "userId": "06323126180071332084"
     },
     "user_tz": -60
    },
    "id": "lYu6c1zxZDQc",
    "outputId": "f4ced048-6e56-40c3-d7f4-37e18e31ff78"
   },
   "outputs": [
    {
     "data": {
      "application/vnd.microsoft.datawrangler.viewer.v0+json": {
       "columns": [
        {
         "name": "index",
         "rawType": "int64",
         "type": "integer"
        },
        {
         "name": "Unnamed: 0",
         "rawType": "int64",
         "type": "integer"
        },
        {
         "name": "text",
         "rawType": "object",
         "type": "string"
        },
        {
         "name": "label",
         "rawType": "int64",
         "type": "integer"
        },
        {
         "name": "text_no_stopwords",
         "rawType": "object",
         "type": "string"
        },
        {
         "name": "text_stem",
         "rawType": "object",
         "type": "string"
        },
        {
         "name": "text_lemma",
         "rawType": "object",
         "type": "string"
        }
       ],
       "conversionMethod": "pd.DataFrame",
       "ref": "c7e8b35c-e98b-4842-9aa9-f6c7e4177fd1",
       "rows": [
        [
         "0",
         "0",
         "dear american teens question dutch person heard guys get way easier things learn age us sooooo thth graders like  right guys learn math",
         "0",
         "dear american teens question dutch person heard guys get way easier things learn age us sooooo thth graders like right guys learn math",
         "dear american teen question dutch person heard guy get way easier thing learn age us sooooo thth grader like right guy learn math",
         "dear american teen question dutch person hear guy way easy thing learn age sooooo thth grader like right guy learn math"
        ],
        [
         "1",
         "1",
         "nothing look forward lifei dont many reasons keep going feel like nothing keeps going next day makes want hang myself",
         "1",
         "nothing look forward lifei dont many reasons keep going feel like nothing keeps going next day makes want hang",
         "noth look forward lifei dont mani reason keep go feel like noth keep go next day make want hang",
         "look forward lifei not reason going feel like keep go day make want hang"
        ],
        [
         "2",
         "2",
         "music recommendations im looking expand playlist usual genres alt pop minnesota hip hop steampunk various indie genres artists people like cavetown aliceband bug hunter penelope scott various rhymesayers willing explore new genresartists such anything generic rap the type exclusively sex drugs cool rapper is rap types pretty good pop popular couple years ago dunno technical genre name anyways anyone got music recommendations favorite artistssongs",
         "0",
         "music recommendations im looking expand playlist usual genres alt pop minnesota hip hop steampunk various indie genres artists people like cavetown aliceband bug hunter penelope scott various rhymesayers willing explore new genresartists anything generic rap type exclusively sex drugs cool rapper rap types pretty good pop popular couple years ago dunno technical genre name anyways anyone got music recommendations favorite artistssongs",
         "music recommend im look expand playlist usual genr alt pop minnesota hip hop steampunk variou indi genr artist peopl like cavetown aliceband bug hunter penelop scott variou rhymesay will explor new genresartist anyth gener rap type exclus sex drug cool rapper rap type pretti good pop popular coupl year ago dunno technic genr name anyway anyon got music recommend favorit artistssong",
         "music recommendation m look expand playlist usual genre alt pop minnesota hip hop steampunk indie genre artist people like cavetown aliceband bug hunter penelope scott rhymesayer willing explore new genresartist generic rap type exclusively sex drug cool rapper rap type pretty good pop popular couple year ago dunno technical genre anyways get music recommendation favorite artistssong"
        ],
        [
         "3",
         "3",
         "im done trying feel betterthe reason im still alive know mum devastated ever killed myself ever passes im still state im going hesitate ending life shortly after im almost  take meds go therapy nothing seems help enough dont want around anymore hate feeling like this wouldnt wish upon enemy brain feels like constantly like static tv wont shut overthinking do think im running options dont see living past  got accepted health science degree dont even know wanna try know im smart mental illness holds back think cant anything im good enough need fucking help dont know anymore ive run options",
         "1",
         "im done trying feel betterthe reason im still alive know mum devastated ever killed ever passes im still state im going hesitate ending life shortly im almost take meds go therapy nothing seems help enough dont want around anymore hate feeling like wouldnt wish upon enemy brain feels like constantly like static tv wont shut overthinking think im running options dont see living past got accepted health science degree dont even know wan na try know im smart mental illness holds back think cant anything im good enough need fucking help dont know anymore ive run options",
         "im done tri feel betterth reason im still aliv know mum devast ever kill ever pass im still state im go hesit end life shortli im almost take med go therapi noth seem help enough dont want around anymor hate feel like wouldnt wish upon enemi brain feel like constantli like static tv wont shut overthink think im run option dont see live past got accept health scienc degre dont even know wan na tri know im smart mental ill hold back think cant anyth im good enough need fuck help dont know anymor ive run option",
         "m try feel betterthe reason m alive know mum devastate kill pass m state m go hesitate end life shortly m med therapy help not want anymore hate feel like not wish enemy brain feel like constantly like static tv will not shut overthinke think m run option not living past get accept health science degree not know wan na try know m smart mental illness hold think not m good need fucking help not know anymore ve run option"
        ],
        [
         "4",
         "4",
         "worried  year old girl subject domestic physicalmental housewithout going lot know girl know girl etc let give brief background known girl  years lives uk live different country kept touch electronic means first girl schizophrenic host illnesses too dad severe anger issues abuses physically mentally makes serve food wash dishes clean house shouts beats petty things like spilling water picking toys floor threatened knife beats plates glasses punches head last time got beat around month ago one siblings gets beat up tried tell mother beating showed bruises too mother refuses believe even laughed off probably fear confronting him husband yells wife too family treat well either sister mean tell father put trouble family tends isolate her even remember birthday all family cold her often tend alienate since act normal girl often feels suicidal due this inflicted selfharm cut wrist starves believes way family accept her make worse two incidents life must tell about raped walking back home night initially tell parents sometime later police reports filed rape suffered false pregnancy girl symptoms disorder like lactating breasts happened early  depressed incident summer  approximately family sent couple family friends wellknown treatments advertised herbal therapy accupuncture etc however happened next terrible left alone husband wife went somewhere else guy tortured her instance made sit container filled water upto neck closed lid imagine kind stress panic would cause schizophrenic patient miscellaneous details gt gets visit psychiatrist school able hide problems psychiatrist noted girl able put front really well gt five psychiatrists past gt enjoys drawingpainting learning new languages writing poems gt depressed tends victimized mentality blames problems want report abuse due trouble family face tells stopped cutting lately problem refuses tell anyone abuse even tries defend father saying fault help her although seem extremely suicidal concern physically mental abuse girl subject everyday healthy environment anyone grow in really wish rescued clutches belligerent controlling father dysfunctional family",
         "1",
         "worried year old girl subject domestic physicalmental housewithout going lot know girl know girl etc let give brief background known girl years lives uk live different country kept touch electronic means first girl schizophrenic host illnesses dad severe anger issues abuses physically mentally makes serve food wash dishes clean house shouts beats petty things like spilling water picking toys floor threatened knife beats plates glasses punches head last time got beat around month ago one siblings gets beat tried tell mother beating showed bruises mother refuses believe even laughed probably fear confronting husband yells wife family treat well either sister mean tell father put trouble family tends isolate even remember birthday family cold often tend alienate since act normal girl often feels suicidal due inflicted selfharm cut wrist starves believes way family accept make worse two incidents life must tell raped walking back home night initially tell parents sometime later police reports filed rape suffered false pregnancy girl symptoms disorder like lactating breasts happened early depressed incident summer approximately family sent couple family friends wellknown treatments advertised herbal therapy accupuncture etc however happened next terrible left alone husband wife went somewhere else guy tortured instance made sit container filled water upto neck closed lid imagine kind stress panic would cause schizophrenic patient miscellaneous details gt gets visit psychiatrist school able hide problems psychiatrist noted girl able put front really well gt five psychiatrists past gt enjoys drawingpainting learning new languages writing poems gt depressed tends victimized mentality blames problems want report abuse due trouble family face tells stopped cutting lately problem refuses tell anyone abuse even tries defend father saying fault help although seem extremely suicidal concern physically mental abuse girl subject everyday healthy environment anyone grow really wish rescued clutches belligerent controlling father dysfunctional family",
         "worri year old girl subject domest physicalment housewithout go lot know girl know girl etc let give brief background known girl year live uk live differ countri kept touch electron mean first girl schizophren host ill dad sever anger issu abus physic mental make serv food wash dish clean hous shout beat petti thing like spill water pick toy floor threaten knife beat plate glass punch head last time got beat around month ago one sibl get beat tri tell mother beat show bruis mother refus believ even laugh probabl fear confront husband yell wife famili treat well either sister mean tell father put troubl famili tend isol even rememb birthday famili cold often tend alien sinc act normal girl often feel suicid due inflict selfharm cut wrist starv believ way famili accept make wors two incid life must tell rape walk back home night initi tell parent sometim later polic report file rape suffer fals pregnanc girl symptom disord like lactat breast happen earli depress incid summer approxim famili sent coupl famili friend wellknown treatment advertis herbal therapi accupunctur etc howev happen next terribl left alon husband wife went somewher els guy tortur instanc made sit contain fill water upto neck close lid imagin kind stress panic would caus schizophren patient miscellan detail gt get visit psychiatrist school abl hide problem psychiatrist note girl abl put front realli well gt five psychiatrist past gt enjoy drawingpaint learn new languag write poem gt depress tend victim mental blame problem want report abus due troubl famili face tell stop cut late problem refus tell anyon abus even tri defend father say fault help although seem extrem suicid concern physic mental abus girl subject everyday healthi environ anyon grow realli wish rescu clutch belliger control father dysfunct famili",
         "worry year old girl subject domestic physicalmental housewithout go lot know girl know girl etc let brief background know girl year live uk live different country keep touch electronic mean girl schizophrenic host illnesse dad severe anger issue abuse physically mentally make serve food wash dish clean house shout beat petty thing like spill water pick toy floor threaten knife beat plate glass punch head time get beat month ago sibling get beat try tell mother beating show bruise mother refuse believe laugh probably fear confront husband yell wife family treat sister mean tell father trouble family tend isolate remember birthday family cold tend alienate act normal girl feel suicidal inflict selfharm cut wrist starve believe way family accept bad incident life tell rape walk home night initially tell parent later police report file rape suffer false pregnancy girl symptom disorder like lactate breast happen early depressed incident summer approximately family send couple family friend wellknown treatment advertise herbal therapy accupuncture etc happen terrible left husband wife go guy torture instance sit container fill water upto neck close lid imagine kind stress panic cause schizophrenic patient miscellaneous detail gt get visit psychiatrist school able hide problem psychiatrist note girl able gt psychiatrist past gt enjoy drawingpainte learn new language write poem gt depressed tend victimize mentality blame problem want report abuse trouble family face tells stop cut lately problem refuse tell abuse try defend father say fault help extremely suicidal concern physically mental abuse girl subject everyday healthy environment grow wish rescue clutch belligerent control father dysfunctional family"
        ]
       ],
       "shape": {
        "columns": 6,
        "rows": 5
       }
      },
      "text/html": [
       "<div>\n",
       "<style scoped>\n",
       "    .dataframe tbody tr th:only-of-type {\n",
       "        vertical-align: middle;\n",
       "    }\n",
       "\n",
       "    .dataframe tbody tr th {\n",
       "        vertical-align: top;\n",
       "    }\n",
       "\n",
       "    .dataframe thead th {\n",
       "        text-align: right;\n",
       "    }\n",
       "</style>\n",
       "<table border=\"1\" class=\"dataframe\">\n",
       "  <thead>\n",
       "    <tr style=\"text-align: right;\">\n",
       "      <th></th>\n",
       "      <th>Unnamed: 0</th>\n",
       "      <th>text</th>\n",
       "      <th>label</th>\n",
       "      <th>text_no_stopwords</th>\n",
       "      <th>text_stem</th>\n",
       "      <th>text_lemma</th>\n",
       "    </tr>\n",
       "  </thead>\n",
       "  <tbody>\n",
       "    <tr>\n",
       "      <th>0</th>\n",
       "      <td>0</td>\n",
       "      <td>dear american teens question dutch person hear...</td>\n",
       "      <td>0</td>\n",
       "      <td>dear american teens question dutch person hear...</td>\n",
       "      <td>dear american teen question dutch person heard...</td>\n",
       "      <td>dear american teen question dutch person hear ...</td>\n",
       "    </tr>\n",
       "    <tr>\n",
       "      <th>1</th>\n",
       "      <td>1</td>\n",
       "      <td>nothing look forward lifei dont many reasons k...</td>\n",
       "      <td>1</td>\n",
       "      <td>nothing look forward lifei dont many reasons k...</td>\n",
       "      <td>noth look forward lifei dont mani reason keep ...</td>\n",
       "      <td>look forward lifei not reason going feel like ...</td>\n",
       "    </tr>\n",
       "    <tr>\n",
       "      <th>2</th>\n",
       "      <td>2</td>\n",
       "      <td>music recommendations im looking expand playli...</td>\n",
       "      <td>0</td>\n",
       "      <td>music recommendations im looking expand playli...</td>\n",
       "      <td>music recommend im look expand playlist usual ...</td>\n",
       "      <td>music recommendation m look expand playlist us...</td>\n",
       "    </tr>\n",
       "    <tr>\n",
       "      <th>3</th>\n",
       "      <td>3</td>\n",
       "      <td>im done trying feel betterthe reason im still ...</td>\n",
       "      <td>1</td>\n",
       "      <td>im done trying feel betterthe reason im still ...</td>\n",
       "      <td>im done tri feel betterth reason im still aliv...</td>\n",
       "      <td>m try feel betterthe reason m alive know mum d...</td>\n",
       "    </tr>\n",
       "    <tr>\n",
       "      <th>4</th>\n",
       "      <td>4</td>\n",
       "      <td>worried  year old girl subject domestic physic...</td>\n",
       "      <td>1</td>\n",
       "      <td>worried year old girl subject domestic physica...</td>\n",
       "      <td>worri year old girl subject domest physicalmen...</td>\n",
       "      <td>worry year old girl subject domestic physicalm...</td>\n",
       "    </tr>\n",
       "  </tbody>\n",
       "</table>\n",
       "</div>"
      ],
      "text/plain": [
       "   Unnamed: 0                                               text  label  \\\n",
       "0           0  dear american teens question dutch person hear...      0   \n",
       "1           1  nothing look forward lifei dont many reasons k...      1   \n",
       "2           2  music recommendations im looking expand playli...      0   \n",
       "3           3  im done trying feel betterthe reason im still ...      1   \n",
       "4           4  worried  year old girl subject domestic physic...      1   \n",
       "\n",
       "                                   text_no_stopwords  \\\n",
       "0  dear american teens question dutch person hear...   \n",
       "1  nothing look forward lifei dont many reasons k...   \n",
       "2  music recommendations im looking expand playli...   \n",
       "3  im done trying feel betterthe reason im still ...   \n",
       "4  worried year old girl subject domestic physica...   \n",
       "\n",
       "                                           text_stem  \\\n",
       "0  dear american teen question dutch person heard...   \n",
       "1  noth look forward lifei dont mani reason keep ...   \n",
       "2  music recommend im look expand playlist usual ...   \n",
       "3  im done tri feel betterth reason im still aliv...   \n",
       "4  worri year old girl subject domest physicalmen...   \n",
       "\n",
       "                                          text_lemma  \n",
       "0  dear american teen question dutch person hear ...  \n",
       "1  look forward lifei not reason going feel like ...  \n",
       "2  music recommendation m look expand playlist us...  \n",
       "3  m try feel betterthe reason m alive know mum d...  \n",
       "4  worry year old girl subject domestic physicalm...  "
      ]
     },
     "execution_count": 50,
     "metadata": {},
     "output_type": "execute_result"
    }
   ],
   "source": [
    "df = pd.read_csv(\"data/preprocessing/mental_health_preprocessed.csv\")\n",
    "df.head()"
   ]
  },
  {
   "cell_type": "markdown",
   "metadata": {},
   "source": [
    "## Split the Corpus into Train & Test Sets"
   ]
  },
  {
   "cell_type": "code",
   "execution_count": 51,
   "metadata": {},
   "outputs": [
    {
     "name": "stdout",
     "output_type": "stream",
     "text": [
      "Training and test sets created successfully.\n"
     ]
    }
   ],
   "source": [
    "from sklearn.model_selection import train_test_split\n",
    "\n",
    "# Separate texts based on label\n",
    "texts_0 = df[df[\"label\"] == 0][\"text_lemma\"].dropna().tolist()  # Healthy group\n",
    "texts_1 = df[df[\"label\"] == 1][\"text_lemma\"].dropna().tolist()  # Mentally ill group\n",
    "\n",
    "# Split dataset into training and testing sets\n",
    "train_0, test_0 = train_test_split(texts_0, test_size=0.2, random_state=42)\n",
    "train_1, test_1 = train_test_split(texts_1, test_size=0.2, random_state=42)\n",
    "\n",
    "# Convert to DataFrame\n",
    "train_df = pd.DataFrame({\"text\": train_0 + train_1, \"label\": [0] * len(train_0) + [1] * len(train_1)})\n",
    "test_df = pd.DataFrame({\"text\": test_0 + test_1, \"label\": [0] * len(test_0) + [1] * len(test_1)})\n",
    "\n",
    "# Save to CSV for reference\n",
    "train_df.to_csv(\"data/training/train_data.csv\", index=False)\n",
    "test_df.to_csv(\"data/training/test_data.csv\", index=False)\n",
    "\n",
    "print(\"Training and test sets created successfully.\")"
   ]
  },
  {
   "cell_type": "markdown",
   "metadata": {},
   "source": [
    "## Extract a Dictionary from Each Corpus"
   ]
  },
  {
   "cell_type": "code",
   "execution_count": 52,
   "metadata": {},
   "outputs": [
    {
     "name": "stdout",
     "output_type": "stream",
     "text": [
      "Dictionaries extracted and saved.\n"
     ]
    }
   ],
   "source": [
    "# Separate texts based on label\n",
    "texts_train_0 = train_df[train_df[\"label\"] == 0][\"text\"].dropna().tolist()\n",
    "texts_train_1 = train_df[train_df[\"label\"] == 1][\"text\"].dropna().tolist()\n",
    "\n",
    "# Apply TF-IDF separately for each group\n",
    "vectorizer_0 = TfidfVectorizer(stop_words=\"english\", max_features=30)\n",
    "tfidf_0 = vectorizer_0.fit_transform(texts_train_0)\n",
    "words_0 = vectorizer_0.get_feature_names_out()\n",
    "scores_0 = np.asarray(tfidf_0.mean(axis=0)).flatten()\n",
    "\n",
    "vectorizer_1 = TfidfVectorizer(stop_words=\"english\", max_features=30)\n",
    "tfidf_1 = vectorizer_1.fit_transform(texts_train_1)\n",
    "words_1 = vectorizer_1.get_feature_names_out()\n",
    "scores_1 = np.asarray(tfidf_1.mean(axis=0)).flatten()\n",
    "\n",
    "# Create DataFrames with extracted words and scores\n",
    "df_tfidf_0 = pd.DataFrame({\"word\": words_0, \"score\": scores_0}).sort_values(by=\"score\", ascending=False)\n",
    "df_tfidf_1 = pd.DataFrame({\"word\": words_1, \"score\": scores_1}).sort_values(by=\"score\", ascending=False)\n",
    "\n",
    "# Extract dictionary from each corpus using TF-IDF\n",
    "dictionary_0 = set(df_tfidf_0[\"word\"])  # Healthy words\n",
    "dictionary_1 = set(df_tfidf_1[\"word\"])  # Mentally ill words\n",
    "\n",
    "# Save the dictionaries for future use\n",
    "with open(\"data/dictionaries/dictionary_healthy.txt\", \"w\") as f:\n",
    "    f.write(\"\\n\".join(dictionary_0))\n",
    "\n",
    "with open(\"data/dictionaries/dictionary_mentally_ill.txt\", \"w\") as f:\n",
    "    f.write(\"\\n\".join(dictionary_1))\n",
    "\n",
    "print(\"Dictionaries extracted and saved.\")"
   ]
  },
  {
   "cell_type": "markdown",
   "metadata": {},
   "source": [
    "$\\text{score ajustado} = \\frac{\\text{TF-IDF en mentally ill}}{\\text{TF-IDF en healthy} + \\epsilon}$"
   ]
  },
  {
   "cell_type": "code",
   "execution_count": 53,
   "metadata": {},
   "outputs": [
    {
     "name": "stdout",
     "output_type": "stream",
     "text": [
      "Filtered dictionary generated.\n"
     ]
    },
    {
     "data": {
      "application/vnd.microsoft.datawrangler.viewer.v0+json": {
       "columns": [
        {
         "name": "index",
         "rawType": "int64",
         "type": "integer"
        },
        {
         "name": "Word",
         "rawType": "object",
         "type": "string"
        },
        {
         "name": "Importance Score",
         "rawType": "float64",
         "type": "float"
        }
       ],
       "conversionMethod": "pd.DataFrame",
       "ref": "085b1099-6520-4698-8b66-24459445bf22",
       "rows": [
        [
         "0",
         "try",
         "85430.85002435216"
        ],
        [
         "1",
         "kill",
         "80732.39471683893"
        ],
        [
         "2",
         "help",
         "75115.80209511623"
        ],
        [
         "3",
         "live",
         "73611.71832242921"
        ],
        [
         "4",
         "die",
         "73238.74083141123"
        ],
        [
         "5",
         "end",
         "69068.9745101848"
        ],
        [
         "6",
         "fuck",
         "67512.82783515187"
        ],
        [
         "7",
         "anymore",
         "65301.13430622468"
        ],
        [
         "8",
         "bad",
         "62129.04678247506"
        ],
        [
         "9",
         "need",
         "60410.81563027356"
        ],
        [
         "10",
         "way",
         "59968.51342844115"
        ],
        [
         "11",
         "work",
         "59940.8162584735"
        ],
        [
         "12",
         "family",
         "52744.18046896915"
        ],
        [
         "13",
         "life",
         "3.5056534186086528"
        ],
        [
         "14",
         "feel",
         "2.891547498276722"
        ],
        [
         "15",
         "ve",
         "2.500854538748303"
        ],
        [
         "16",
         "want",
         "2.2174847016540444"
        ],
        [
         "17",
         "year",
         "2.005655435424352"
        ],
        [
         "18",
         "thing",
         "1.893417696739624"
        ],
        [
         "19",
         "tell",
         "1.804085549328359"
        ],
        [
         "20",
         "know",
         "1.7648391026357182"
        ],
        [
         "21",
         "think",
         "1.7284109366291744"
        ],
        [
         "22",
         "friend",
         "1.6428307090366057"
        ],
        [
         "23",
         "love",
         "1.64041123554846"
        ],
        [
         "24",
         "time",
         "1.6082085887765796"
        ],
        [
         "25",
         "talk",
         "1.4990414174132058"
        ],
        [
         "26",
         "people",
         "1.4373400049784892"
        ],
        [
         "27",
         "day",
         "1.4098770277216224"
        ],
        [
         "28",
         "like",
         "1.1058925334958298"
        ],
        [
         "29",
         "good",
         "1.0101122526985424"
        ]
       ],
       "shape": {
        "columns": 2,
        "rows": 30
       }
      },
      "text/html": [
       "<div>\n",
       "<style scoped>\n",
       "    .dataframe tbody tr th:only-of-type {\n",
       "        vertical-align: middle;\n",
       "    }\n",
       "\n",
       "    .dataframe tbody tr th {\n",
       "        vertical-align: top;\n",
       "    }\n",
       "\n",
       "    .dataframe thead th {\n",
       "        text-align: right;\n",
       "    }\n",
       "</style>\n",
       "<table border=\"1\" class=\"dataframe\">\n",
       "  <thead>\n",
       "    <tr style=\"text-align: right;\">\n",
       "      <th></th>\n",
       "      <th>Word</th>\n",
       "      <th>Importance Score</th>\n",
       "    </tr>\n",
       "  </thead>\n",
       "  <tbody>\n",
       "    <tr>\n",
       "      <th>0</th>\n",
       "      <td>try</td>\n",
       "      <td>85430.850024</td>\n",
       "    </tr>\n",
       "    <tr>\n",
       "      <th>1</th>\n",
       "      <td>kill</td>\n",
       "      <td>80732.394717</td>\n",
       "    </tr>\n",
       "    <tr>\n",
       "      <th>2</th>\n",
       "      <td>help</td>\n",
       "      <td>75115.802095</td>\n",
       "    </tr>\n",
       "    <tr>\n",
       "      <th>3</th>\n",
       "      <td>live</td>\n",
       "      <td>73611.718322</td>\n",
       "    </tr>\n",
       "    <tr>\n",
       "      <th>4</th>\n",
       "      <td>die</td>\n",
       "      <td>73238.740831</td>\n",
       "    </tr>\n",
       "    <tr>\n",
       "      <th>5</th>\n",
       "      <td>end</td>\n",
       "      <td>69068.974510</td>\n",
       "    </tr>\n",
       "    <tr>\n",
       "      <th>6</th>\n",
       "      <td>fuck</td>\n",
       "      <td>67512.827835</td>\n",
       "    </tr>\n",
       "    <tr>\n",
       "      <th>7</th>\n",
       "      <td>anymore</td>\n",
       "      <td>65301.134306</td>\n",
       "    </tr>\n",
       "    <tr>\n",
       "      <th>8</th>\n",
       "      <td>bad</td>\n",
       "      <td>62129.046782</td>\n",
       "    </tr>\n",
       "    <tr>\n",
       "      <th>9</th>\n",
       "      <td>need</td>\n",
       "      <td>60410.815630</td>\n",
       "    </tr>\n",
       "    <tr>\n",
       "      <th>10</th>\n",
       "      <td>way</td>\n",
       "      <td>59968.513428</td>\n",
       "    </tr>\n",
       "    <tr>\n",
       "      <th>11</th>\n",
       "      <td>work</td>\n",
       "      <td>59940.816258</td>\n",
       "    </tr>\n",
       "    <tr>\n",
       "      <th>12</th>\n",
       "      <td>family</td>\n",
       "      <td>52744.180469</td>\n",
       "    </tr>\n",
       "    <tr>\n",
       "      <th>13</th>\n",
       "      <td>life</td>\n",
       "      <td>3.505653</td>\n",
       "    </tr>\n",
       "    <tr>\n",
       "      <th>14</th>\n",
       "      <td>feel</td>\n",
       "      <td>2.891547</td>\n",
       "    </tr>\n",
       "    <tr>\n",
       "      <th>15</th>\n",
       "      <td>ve</td>\n",
       "      <td>2.500855</td>\n",
       "    </tr>\n",
       "    <tr>\n",
       "      <th>16</th>\n",
       "      <td>want</td>\n",
       "      <td>2.217485</td>\n",
       "    </tr>\n",
       "    <tr>\n",
       "      <th>17</th>\n",
       "      <td>year</td>\n",
       "      <td>2.005655</td>\n",
       "    </tr>\n",
       "    <tr>\n",
       "      <th>18</th>\n",
       "      <td>thing</td>\n",
       "      <td>1.893418</td>\n",
       "    </tr>\n",
       "    <tr>\n",
       "      <th>19</th>\n",
       "      <td>tell</td>\n",
       "      <td>1.804086</td>\n",
       "    </tr>\n",
       "    <tr>\n",
       "      <th>20</th>\n",
       "      <td>know</td>\n",
       "      <td>1.764839</td>\n",
       "    </tr>\n",
       "    <tr>\n",
       "      <th>21</th>\n",
       "      <td>think</td>\n",
       "      <td>1.728411</td>\n",
       "    </tr>\n",
       "    <tr>\n",
       "      <th>22</th>\n",
       "      <td>friend</td>\n",
       "      <td>1.642831</td>\n",
       "    </tr>\n",
       "    <tr>\n",
       "      <th>23</th>\n",
       "      <td>love</td>\n",
       "      <td>1.640411</td>\n",
       "    </tr>\n",
       "    <tr>\n",
       "      <th>24</th>\n",
       "      <td>time</td>\n",
       "      <td>1.608209</td>\n",
       "    </tr>\n",
       "    <tr>\n",
       "      <th>25</th>\n",
       "      <td>talk</td>\n",
       "      <td>1.499041</td>\n",
       "    </tr>\n",
       "    <tr>\n",
       "      <th>26</th>\n",
       "      <td>people</td>\n",
       "      <td>1.437340</td>\n",
       "    </tr>\n",
       "    <tr>\n",
       "      <th>27</th>\n",
       "      <td>day</td>\n",
       "      <td>1.409877</td>\n",
       "    </tr>\n",
       "    <tr>\n",
       "      <th>28</th>\n",
       "      <td>like</td>\n",
       "      <td>1.105893</td>\n",
       "    </tr>\n",
       "    <tr>\n",
       "      <th>29</th>\n",
       "      <td>good</td>\n",
       "      <td>1.010112</td>\n",
       "    </tr>\n",
       "  </tbody>\n",
       "</table>\n",
       "</div>"
      ],
      "text/plain": [
       "       Word  Importance Score\n",
       "0       try      85430.850024\n",
       "1      kill      80732.394717\n",
       "2      help      75115.802095\n",
       "3      live      73611.718322\n",
       "4       die      73238.740831\n",
       "5       end      69068.974510\n",
       "6      fuck      67512.827835\n",
       "7   anymore      65301.134306\n",
       "8       bad      62129.046782\n",
       "9      need      60410.815630\n",
       "10      way      59968.513428\n",
       "11     work      59940.816258\n",
       "12   family      52744.180469\n",
       "13     life          3.505653\n",
       "14     feel          2.891547\n",
       "15       ve          2.500855\n",
       "16     want          2.217485\n",
       "17     year          2.005655\n",
       "18    thing          1.893418\n",
       "19     tell          1.804086\n",
       "20     know          1.764839\n",
       "21    think          1.728411\n",
       "22   friend          1.642831\n",
       "23     love          1.640411\n",
       "24     time          1.608209\n",
       "25     talk          1.499041\n",
       "26   people          1.437340\n",
       "27      day          1.409877\n",
       "28     like          1.105893\n",
       "29     good          1.010112"
      ]
     },
     "execution_count": 53,
     "metadata": {},
     "output_type": "execute_result"
    }
   ],
   "source": [
    "# Calculate frequency of words in both classes\n",
    "word_weights = {}\n",
    "for word in dictionary_1:\n",
    "    freq_1 = df_tfidf_1[df_tfidf_1[\"word\"] == word][\"score\"].values[0] if word in df_tfidf_1[\"word\"].values else 0\n",
    "    freq_0 = df_tfidf_0[df_tfidf_0[\"word\"] == word][\"score\"].values[0] if word in df_tfidf_0[\"word\"].values else 0\n",
    "    word_weights[word] = freq_1 / (freq_0 + 1e-6)  # Avoid division by zero\n",
    "\n",
    "# Sort words by importance (higher values = more relevant to mentally ill class)\n",
    "filtered_words = sorted(word_weights.items(), key=lambda x: x[1], reverse=True)[:100]  # Keep top 100 words\n",
    "\n",
    "# Save filtered dictionary\n",
    "with open(\"data/dictionaries/filtered_dictionary.txt\", \"w\") as f:\n",
    "    f.write(\"\\n\".join([word for word, score in filtered_words]))\n",
    "\n",
    "print(\"Filtered dictionary generated.\")\n",
    "\n",
    "\n",
    "df_filtered_words = pd.DataFrame(filtered_words, columns=[\"Word\", \"Importance Score\"])\n",
    "df_filtered_words"
   ]
  },
  {
   "cell_type": "code",
   "execution_count": 54,
   "metadata": {},
   "outputs": [
    {
     "name": "stdout",
     "output_type": "stream",
     "text": [
      "Logistic Regression Accuracy: 0.8077\n"
     ]
    }
   ],
   "source": [
    "from sklearn.feature_extraction.text import TfidfVectorizer\n",
    "from sklearn.linear_model import LogisticRegression\n",
    "from sklearn.metrics import accuracy_score\n",
    "\n",
    "# Convert train and test text into TF-IDF features using only filtered words\n",
    "vectorizer = TfidfVectorizer(vocabulary=[word for word, _ in filtered_words])\n",
    "X_train = vectorizer.fit_transform(train_df[\"text\"])\n",
    "X_test = vectorizer.transform(test_df[\"text\"])\n",
    "\n",
    "# Train a logistic regression model\n",
    "model = LogisticRegression(random_state=42)\n",
    "model.fit(X_train, train_df[\"label\"])\n",
    "\n",
    "# Make predictions\n",
    "y_pred = model.predict(X_test)\n",
    "\n",
    "# Evaluate performance\n",
    "accuracy = accuracy_score(test_df[\"label\"], y_pred)\n",
    "print(f\"Logistic Regression Accuracy: {accuracy:.4f}\")\n"
   ]
  }
 ],
 "metadata": {
  "colab": {
   "provenance": []
  },
  "kernelspec": {
   "display_name": "Python 3",
   "language": "python",
   "name": "python3"
  },
  "language_info": {
   "codemirror_mode": {
    "name": "ipython",
    "version": 3
   },
   "file_extension": ".py",
   "mimetype": "text/x-python",
   "name": "python",
   "nbconvert_exporter": "python",
   "pygments_lexer": "ipython3",
   "version": "3.12.9"
  }
 },
 "nbformat": 4,
 "nbformat_minor": 0
}
